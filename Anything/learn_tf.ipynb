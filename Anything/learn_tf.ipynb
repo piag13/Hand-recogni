{
 "cells": [
  {
   "cell_type": "code",
   "execution_count": 1,
   "id": "8283634e",
   "metadata": {},
   "outputs": [
    {
     "name": "stdout",
     "output_type": "stream",
     "text": [
      "tensorflow version: 2.19.0\n"
     ]
    }
   ],
   "source": [
    "import tensorflow as tf\n",
    "import matplotlib.pyplot as plt\n",
    "print(\"tensorflow version:\", tf.__version__)   "
   ]
  },
  {
   "cell_type": "code",
   "execution_count": 2,
   "id": "59974312",
   "metadata": {},
   "outputs": [
    {
     "data": {
      "text/plain": [
       "<tf.Tensor: shape=(3, 3), dtype=int32, numpy=\n",
       "array([[1, 2, 3],\n",
       "       [2, 4, 5],\n",
       "       [1, 1, 2]])>"
      ]
     },
     "execution_count": 2,
     "metadata": {},
     "output_type": "execute_result"
    }
   ],
   "source": [
    "x = tf.constant([[1,2,3], [2,4,5], [1,1,2]])\n",
    "x"
   ]
  },
  {
   "cell_type": "code",
   "execution_count": 14,
   "id": "654fb5be",
   "metadata": {},
   "outputs": [
    {
     "data": {
      "text/plain": [
       "(<tf.Tensor: shape=(3, 3), dtype=float32, numpy=\n",
       " array([[1., 1., 1.],\n",
       "        [1., 1., 1.],\n",
       "        [1., 1., 1.]], dtype=float32)>,\n",
       " <tf.Tensor: shape=(3, 3), dtype=float32, numpy=\n",
       " array([[0., 0., 0.],\n",
       "        [0., 0., 0.],\n",
       "        [0., 0., 0.]], dtype=float32)>)"
      ]
     },
     "execution_count": 14,
     "metadata": {},
     "output_type": "execute_result"
    }
   ],
   "source": [
    "x = tf.ones((3,3))\n",
    "a = tf.zeros((3, 3))\n",
    "x, a"
   ]
  },
  {
   "cell_type": "code",
   "execution_count": 30,
   "id": "60c803f4",
   "metadata": {},
   "outputs": [
    {
     "data": {
      "text/plain": [
       "<tf.Tensor: shape=(5,), dtype=bool, numpy=array([ True,  True,  True,  True,  True])>"
      ]
     },
     "execution_count": 30,
     "metadata": {},
     "output_type": "execute_result"
    }
   ],
   "source": [
    "x = tf.random.normal((3, 3, 3), mean=0, stddev=1) #ham random\n",
    "x = tf.random.uniform((1, 3), minval=1, maxval=10)\n",
    "x = tf.range(1, 10, 2)\n",
    "x = tf.cast(x, dtype=tf.bool)   #ep kieu\n",
    "x"
   ]
  },
  {
   "cell_type": "code",
   "execution_count": 3,
   "id": "96c6b360",
   "metadata": {},
   "outputs": [
    {
     "data": {
      "text/plain": [
       "<tf.Tensor: shape=(2, 4), dtype=float32, numpy=\n",
       "array([[-3.0434299 ,  1.7629153 ,  0.39404327, -1.2850295 ],\n",
       "       [ 3.6853545 , -1.7333766 ,  0.5458632 ,  0.6893347 ]],\n",
       "      dtype=float32)>"
      ]
     },
     "execution_count": 3,
     "metadata": {},
     "output_type": "execute_result"
    }
   ],
   "source": [
    "x = tf.constant([[3,2,1], [3,2,1], [4, 2, 1]])\n",
    "y = tf.constant([[3,9,1], [8,3,5], [5,6,2]])\n",
    "\n",
    "z = tf.add(x, y) # z = x + y\n",
    "z\n",
    "\n",
    "z = tf.subtract(x, y) #z = x - y\n",
    "z\n",
    "\n",
    "z = tf.divide(x, y) #z = x/y\n",
    "z\n",
    "\n",
    "z = tf.multiply(x, y) # z = x * y\n",
    "z\n",
    "\n",
    "z = tf.tensordot(x, y, axes = 1) # nhan tung phan tu roi tinh tong\n",
    "z\n",
    "\n",
    "x = tf.random.normal((2,3))\n",
    "y = tf.random.normal((3, 4))\n",
    "z = tf.matmul(x, y) # z = x @ y\n",
    "z"
   ]
  },
  {
   "cell_type": "code",
   "execution_count": null,
   "id": "4d6a1c69",
   "metadata": {},
   "outputs": [],
   "source": []
  }
 ],
 "metadata": {
  "kernelspec": {
   "display_name": "Python 3",
   "language": "python",
   "name": "python3"
  },
  "language_info": {
   "codemirror_mode": {
    "name": "ipython",
    "version": 3
   },
   "file_extension": ".py",
   "mimetype": "text/x-python",
   "name": "python",
   "nbconvert_exporter": "python",
   "pygments_lexer": "ipython3",
   "version": "3.12.10"
  }
 },
 "nbformat": 4,
 "nbformat_minor": 5
}
