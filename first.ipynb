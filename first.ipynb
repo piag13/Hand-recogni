{
 "cells": [
  {
   "cell_type": "code",
   "execution_count": 2,
   "id": "a6da348f",
   "metadata": {},
   "outputs": [],
   "source": [
    "import numpy as np\n",
    "import cv2\n"
   ]
  },
  {
   "cell_type": "markdown",
   "id": "594e56c0",
   "metadata": {},
   "source": [
    "#1: SHOW VIDEO"
   ]
  },
  {
   "cell_type": "code",
   "execution_count": 3,
   "id": "523c23ab",
   "metadata": {},
   "outputs": [],
   "source": [
    "cap = cv2.VideoCapture(0)\n",
    "\n",
    "while True:\n",
    "    ret, frame = cap.read()\n",
    "\n",
    "    cv2.imshow('frame', frame)\n",
    "    cv2.putText(frame, f'frame', (50, 50), cv2.FONT_HERSHEY_COMPLEX, 1, (0, 255, 0), 2)\n",
    "\n",
    "    if cv2.waitKey(1) & 0xFF == ord('q'):\n",
    "        break\n",
    "\n",
    "cap.release()\n",
    "cv2.destroyAllWindows()"
   ]
  },
  {
   "cell_type": "markdown",
   "id": "5c5b8df6",
   "metadata": {},
   "source": [
    "#2: CROP IMAGE"
   ]
  },
  {
   "cell_type": "code",
   "execution_count": 4,
   "id": "fe19e071",
   "metadata": {},
   "outputs": [],
   "source": [
    "import numpy as np\n",
    "import cv2\n",
    "\n",
    "img = cv2.imread(r\"D:\\9731874859d14f0394958dfc04e5c338.webp\")\n",
    "\n",
    "cv2.imshow(\"original\", img)\n",
    "\n",
    "cropped_img = img[80:550, 150:550]\n",
    "\n",
    "cv2.imshow(\"cropped\", cropped_img)\n",
    "\n",
    "cv2.imwrite(\"Cropped Image.jpg\", cropped_img)\n",
    " \n",
    "cv2.waitKey(0)\n",
    "cv2.destroyAllWindows()"
   ]
  },
  {
   "cell_type": "markdown",
   "id": "220a4985",
   "metadata": {},
   "source": [
    "#3: Tách nền"
   ]
  },
  {
   "cell_type": "code",
   "execution_count": 5,
   "id": "5ec3a200",
   "metadata": {},
   "outputs": [],
   "source": [
    "import numpy as np\n",
    "import cv2\n",
    "\n",
    "image = cv2.imread(r\"D:\\9731874859d14f0394958dfc04e5c338.webp\")\\\n",
    "\n",
    "gray = cv2.cvtColor(image, cv2.COLOR_BGR2GRAY)\n",
    "\n",
    "_,thresh = cv2.threshold(gray, 120, 550, cv2.THRESH_BINARY)\n",
    "\n",
    "contours, _ = cv2.findContours(thresh, cv2.RETR_EXTERNAL, cv2.CHAIN_APPROX_SIMPLE)\n",
    "\n",
    "cv2.drawContours(image, contours, -1, (0, 255, 0), 3)\n",
    "\n",
    "cv2.imshow('Background Removed', image)\n",
    "cv2.waitKey(0)\n",
    "cv2.destroyAllWindows()"
   ]
  },
  {
   "cell_type": "code",
   "execution_count": null,
   "id": "6ed20537",
   "metadata": {},
   "outputs": [],
   "source": []
  }
 ],
 "metadata": {
  "kernelspec": {
   "display_name": "tf_cpu",
   "language": "python",
   "name": "python3"
  },
  "language_info": {
   "codemirror_mode": {
    "name": "ipython",
    "version": 3
   },
   "file_extension": ".py",
   "mimetype": "text/x-python",
   "name": "python",
   "nbconvert_exporter": "python",
   "pygments_lexer": "ipython3",
   "version": "3.13.2"
  }
 },
 "nbformat": 4,
 "nbformat_minor": 5
}
